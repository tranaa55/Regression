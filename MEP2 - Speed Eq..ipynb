{
 "cells": [
  {
   "cell_type": "code",
   "execution_count": 2,
   "id": "00117f76",
   "metadata": {},
   "outputs": [],
   "source": [
    "import statistics\n",
    "import matplotlib.pyplot as plt\n",
    "import pandas as pd"
   ]
  },
  {
   "cell_type": "code",
   "execution_count": null,
   "id": "685b90dd",
   "metadata": {},
   "outputs": [],
   "source": []
  },
  {
   "cell_type": "code",
   "execution_count": 3,
   "id": "16aab46c",
   "metadata": {},
   "outputs": [],
   "source": [
    "df = pd.read_csv(\"MEP2_SPEED2.csv\")"
   ]
  },
  {
   "cell_type": "code",
   "execution_count": null,
   "id": "073650f1",
   "metadata": {},
   "outputs": [],
   "source": []
  },
  {
   "cell_type": "code",
   "execution_count": 4,
   "id": "577a7bff",
   "metadata": {},
   "outputs": [],
   "source": [
    "sheets = df[\"Sheets per hour For A1 Report\"]\n",
    "LW_size = df[\"LW Size\"]\n",
    "CW_size = df[\"CW Size\"]\n",
    "strokes = df[\"Strokes/min\"]\n",
    "num_CW = df[\"No. of CW\"]\n",
    "LW_length = df[\"LW Length\"]\n",
    "CW_length = df[\"CW Length\"]"
   ]
  },
  {
   "cell_type": "code",
   "execution_count": 5,
   "id": "c5c19ecb",
   "metadata": {},
   "outputs": [
    {
     "data": {
      "text/plain": [
       "{'whiskers': [<matplotlib.lines.Line2D at 0x1e18f891d90>,\n",
       "  <matplotlib.lines.Line2D at 0x1e18f8ae130>],\n",
       " 'caps': [<matplotlib.lines.Line2D at 0x1e18f8ae490>,\n",
       "  <matplotlib.lines.Line2D at 0x1e18f8ae7f0>],\n",
       " 'boxes': [<matplotlib.lines.Line2D at 0x1e18f891a00>],\n",
       " 'medians': [<matplotlib.lines.Line2D at 0x1e18f8aeb50>],\n",
       " 'fliers': [<matplotlib.lines.Line2D at 0x1e18f8aeeb0>],\n",
       " 'means': []}"
      ]
     },
     "execution_count": 5,
     "metadata": {},
     "output_type": "execute_result"
    },
    {
     "data": {
      "image/png": "[encoded data removed]",
      "text/plain": [
       "<Figure size 432x288 with 1 Axes>"
      ]
     },
     "metadata": {
      "needs_background": "light"
     },
     "output_type": "display_data"
    }
   ],
   "source": [
    "plt.boxplot(sheets) #outliers removed"
   ]
  },
  {
   "cell_type": "code",
   "execution_count": 6,
   "id": "d4873562",
   "metadata": {},
   "outputs": [],
   "source": [
    "results =[]\n",
    "def speed_mep2(LW_size,CW_size,strokes,num_CW,LW_length):\n",
    "    eq= 76.28015-0.31057*LW_size -0.31247*CW_size + 0.33307*strokes  -0.80186*num_CW -0.03092*LW_length\n",
    "    results.append(eq)\n",
    "    \n",
    "    print(\"_____________________\")\n",
    "    print(eq)\n",
    "\n",
    "    "
   ]
  },
  {
   "cell_type": "code",
   "execution_count": 7,
   "id": "4c165458",
   "metadata": {},
   "outputs": [
    {
     "name": "stdout",
     "output_type": "stream",
     "text": [
      "_____________________\n",
      "51.44980999999999\n"
     ]
    }
   ],
   "source": [
    "#speed_mep2(LW_size,CW_size,strokes,num_CW,LW_length):\n",
    "speed_mep2(24,26,18,13,156)"
   ]
  },
  {
   "cell_type": "code",
   "execution_count": 22,
   "id": "e1271f2d",
   "metadata": {},
   "outputs": [
    {
     "name": "stdout",
     "output_type": "stream",
     "text": [
      "_____________________\n",
      "26.673645000000004\n",
      "_____________________\n",
      "29.990280000000013\n",
      "_____________________\n",
      "33.320980000000006\n",
      "_____________________\n",
      "37.05361\n",
      "_____________________\n",
      "29.439940000000004\n",
      "_____________________\n",
      "43.47872000000001\n",
      "_____________________\n",
      "46.51712400000001\n",
      "_____________________\n",
      "35.12119400000001\n",
      "_____________________\n",
      "33.852604\n",
      "_____________________\n",
      "41.45186700000001\n",
      "_____________________\n",
      "44.12388000000001\n",
      "_____________________\n",
      "43.12467\n",
      "_____________________\n",
      "34.90645000000001\n",
      "_____________________\n",
      "60.69818200000001\n",
      "_____________________\n",
      "34.11829300000001\n",
      "_____________________\n",
      "34.11829300000001\n"
     ]
    }
   ],
   "source": [
    "for x in range(0,len(strokes)):\n",
    "    speed_mep2(LW_size[x],CW_size[x],strokes[x],num_CW[x],LW_length[x])"
   ]
  },
  {
   "cell_type": "code",
   "execution_count": 23,
   "id": "5a1ddb70",
   "metadata": {},
   "outputs": [
    {
     "name": "stdout",
     "output_type": "stream",
     "text": [
      "-0.673645000000004\n",
      "3.0097199999999873\n",
      "0.6790199999999942\n",
      "-0.05360999999999905\n",
      "-0.43994000000000355\n",
      "1.5212799999999902\n",
      "-2.5171240000000097\n",
      "-2.12119400000001\n",
      "0.14739600000000053\n",
      "-0.4518670000000071\n",
      "-3.123880000000007\n",
      "2.875329999999998\n",
      "-0.9064500000000066\n",
      "1.3018179999999901\n",
      "0.8817069999999916\n",
      "-0.11829300000000842\n"
     ]
    }
   ],
   "source": [
    "std=[]\n",
    "for i in range(0,len(results)):\n",
    "    diff = sheets[i] - results[i]\n",
    "    std.append(diff)\n",
    "    print(diff)"
   ]
  },
  {
   "cell_type": "code",
   "execution_count": 24,
   "id": "d9ad0909",
   "metadata": {},
   "outputs": [
    {
     "data": {
      "text/plain": [
       "1.7297245509343386"
      ]
     },
     "execution_count": 24,
     "metadata": {},
     "output_type": "execute_result"
    }
   ],
   "source": [
    "statistics.stdev(std)"
   ]
  },
  {
   "cell_type": "code",
   "execution_count": 25,
   "id": "29093b43",
   "metadata": {},
   "outputs": [
    {
     "name": "stdout",
     "output_type": "stream",
     "text": [
      "_____________________\n",
      "52.694660000000006\n"
     ]
    }
   ],
   "source": [
    "speed_mep2(24,18,27,20,112)"
   ]
  },
  {
   "cell_type": "code",
   "execution_count": null,
   "id": "38aafe22",
   "metadata": {},
   "outputs": [],
   "source": []
  },
  {
   "cell_type": "code",
   "execution_count": null,
   "id": "fa33c8da",
   "metadata": {},
   "outputs": [],
   "source": []
  },
  {
   "cell_type": "code",
   "execution_count": null,
   "id": "c4f3cf16",
   "metadata": {},
   "outputs": [],
   "source": []
  },
  {
   "cell_type": "code",
   "execution_count": null,
   "id": "198ad1df",
   "metadata": {},
   "outputs": [],
   "source": []
  },
  {
   "cell_type": "code",
   "execution_count": null,
   "id": "5eb2828a",
   "metadata": {},
   "outputs": [],
   "source": []
  },
  {
   "cell_type": "code",
   "execution_count": null,
   "id": "4af35124",
   "metadata": {},
   "outputs": [],
   "source": []
  },
  {
   "cell_type": "code",
   "execution_count": null,
   "id": "20dced73",
   "metadata": {},
   "outputs": [],
   "source": []
  },
  {
   "cell_type": "code",
   "execution_count": null,
   "id": "511f91c4",
   "metadata": {},
   "outputs": [],
   "source": []
  },
  {
   "cell_type": "code",
   "execution_count": null,
   "id": "2ec709e7",
   "metadata": {},
   "outputs": [],
   "source": []
  },
  {
   "cell_type": "code",
   "execution_count": null,
   "id": "e6441f9d",
   "metadata": {},
   "outputs": [],
   "source": []
  },
  {
   "cell_type": "code",
   "execution_count": null,
   "id": "45a34700",
   "metadata": {},
   "outputs": [],
   "source": []
  }
 ],
 "metadata": {
  "kernelspec": {
   "display_name": "Python 3",
   "language": "python",
   "name": "python3"
  },
  "language_info": {
   "codemirror_mode": {
    "name": "ipython",
    "version": 3
   },
   "file_extension": ".py",
   "mimetype": "text/x-python",
   "name": "python",
   "nbconvert_exporter": "python",
   "pygments_lexer": "ipython3",
   "version": "3.8.8"
  }
 },
 "nbformat": 4,
 "nbformat_minor": 5
}
