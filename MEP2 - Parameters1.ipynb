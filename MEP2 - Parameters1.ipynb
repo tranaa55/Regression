{
 "cells": [
  {
   "cell_type": "code",
   "execution_count": 5,
   "id": "2e389b0a",
   "metadata": {},
   "outputs": [],
   "source": [
    "import numpy as np\n",
    "import pandas as pd\n",
    "import statistics "
   ]
  },
  {
   "cell_type": "code",
   "execution_count": 6,
   "id": "e32618c1",
   "metadata": {},
   "outputs": [],
   "source": [
    "df = pd.read_csv(\"MEP2_strokes2.csv\")"
   ]
  },
  {
   "cell_type": "code",
   "execution_count": null,
   "id": "e087a2ab",
   "metadata": {},
   "outputs": [],
   "source": []
  },
  {
   "cell_type": "code",
   "execution_count": 7,
   "id": "62501262",
   "metadata": {},
   "outputs": [],
   "source": [
    "squeeze = df[\"Squeeze\"]\n",
    "up = df[\"UP Slope\"]\n",
    "weld = df[\"Weld\"]\n",
    "down=df[\"Down Slope\"]\n",
    "hold = df[\"Hold\"]\n",
    "strokes = df[\"Strokes/min\"]\n",
    "heat = df[\"Heat\"]\n",
    "LW = df[\"LW Size\"]\n",
    "CW = df[\"CW Size\"]"
   ]
  },
  {
   "cell_type": "code",
   "execution_count": null,
   "id": "92a88172",
   "metadata": {},
   "outputs": [],
   "source": []
  },
  {
   "cell_type": "code",
   "execution_count": 8,
   "id": "f9e19617",
   "metadata": {
    "scrolled": false
   },
   "outputs": [
    {
     "data": {
      "text/html": [
       "<div>\n",
       "<style scoped>\n",
       "    .dataframe tbody tr th:only-of-type {\n",
       "        vertical-align: middle;\n",
       "    }\n",
       "\n",
       "    .dataframe tbody tr th {\n",
       "        vertical-align: top;\n",
       "    }\n",
       "\n",
       "    .dataframe thead th {\n",
       "        text-align: right;\n",
       "    }\n",
       "</style>\n",
       "<table border=\"1\" class=\"dataframe\">\n",
       "  <thead>\n",
       "    <tr style=\"text-align: right;\">\n",
       "      <th></th>\n",
       "      <th>Machine</th>\n",
       "      <th>Order Number</th>\n",
       "      <th>Product Decription</th>\n",
       "      <th>LW Size</th>\n",
       "      <th>CW Size</th>\n",
       "      <th>No. of CW</th>\n",
       "      <th>LW Length</th>\n",
       "      <th>CW Length</th>\n",
       "      <th>Sheets per hour For A1 Report</th>\n",
       "      <th>Squeeze</th>\n",
       "      <th>UP Slope</th>\n",
       "      <th>Weld</th>\n",
       "      <th>Down Slope</th>\n",
       "      <th>Hold</th>\n",
       "      <th>Heat</th>\n",
       "      <th>Strokes/min</th>\n",
       "      <th>Unnamed: 16</th>\n",
       "    </tr>\n",
       "  </thead>\n",
       "  <tbody>\n",
       "    <tr>\n",
       "      <th>21</th>\n",
       "      <td>MEP2</td>\n",
       "      <td>S-6322(A)</td>\n",
       "      <td>VXV D20.0XD14.0 40\"(+12\",+12\") X 29'6\"(1\",1\")</td>\n",
       "      <td>0.0</td>\n",
       "      <td>0.0</td>\n",
       "      <td>0</td>\n",
       "      <td>0</td>\n",
       "      <td>0.0</td>\n",
       "      <td>40</td>\n",
       "      <td>20</td>\n",
       "      <td>6</td>\n",
       "      <td>15</td>\n",
       "      <td>2</td>\n",
       "      <td>1</td>\n",
       "      <td>64</td>\n",
       "      <td>32</td>\n",
       "      <td>-1.64606</td>\n",
       "    </tr>\n",
       "    <tr>\n",
       "      <th>22</th>\n",
       "      <td>MEP2</td>\n",
       "      <td>R-0079</td>\n",
       "      <td>VX12 D20.0XD14.0 73-1/4\"(+1-3/8\",+1-3/8\") X 21...</td>\n",
       "      <td>0.0</td>\n",
       "      <td>0.0</td>\n",
       "      <td>0</td>\n",
       "      <td>0</td>\n",
       "      <td>0.0</td>\n",
       "      <td>58</td>\n",
       "      <td>20</td>\n",
       "      <td>6</td>\n",
       "      <td>14</td>\n",
       "      <td>2</td>\n",
       "      <td>1</td>\n",
       "      <td>64</td>\n",
       "      <td>32</td>\n",
       "      <td>-3.81428</td>\n",
       "    </tr>\n",
       "    <tr>\n",
       "      <th>23</th>\n",
       "      <td>MEP2</td>\n",
       "      <td>S-6131 (J)</td>\n",
       "      <td>VXV D31.0XD20.0 75 3/4\"(+2 7/8\",+2 7/8\")X 29'8...</td>\n",
       "      <td>0.0</td>\n",
       "      <td>0.0</td>\n",
       "      <td>0</td>\n",
       "      <td>0</td>\n",
       "      <td>0.0</td>\n",
       "      <td>33</td>\n",
       "      <td>20</td>\n",
       "      <td>8</td>\n",
       "      <td>18</td>\n",
       "      <td>2</td>\n",
       "      <td>1</td>\n",
       "      <td>75</td>\n",
       "      <td>25</td>\n",
       "      <td>-2.20716</td>\n",
       "    </tr>\n",
       "    <tr>\n",
       "      <th>24</th>\n",
       "      <td>MEP2</td>\n",
       "      <td>S-6346</td>\n",
       "      <td>12X6 D11.0XD18.0 228\"(+3/4\",+3/4\") X 1'8\"(1\",1\")</td>\n",
       "      <td>0.0</td>\n",
       "      <td>0.0</td>\n",
       "      <td>0</td>\n",
       "      <td>0</td>\n",
       "      <td>0.0</td>\n",
       "      <td>60</td>\n",
       "      <td>20</td>\n",
       "      <td>6</td>\n",
       "      <td>15</td>\n",
       "      <td>2</td>\n",
       "      <td>1</td>\n",
       "      <td>61</td>\n",
       "      <td>31</td>\n",
       "      <td>-2.64606</td>\n",
       "    </tr>\n",
       "    <tr>\n",
       "      <th>25</th>\n",
       "      <td>MEP2</td>\n",
       "      <td>S-6346</td>\n",
       "      <td>12X6 D11.0XD18.0 228\"(+3/4\",+3/4\") X 3'8\"(1\",1\")</td>\n",
       "      <td>0.0</td>\n",
       "      <td>0.0</td>\n",
       "      <td>0</td>\n",
       "      <td>0</td>\n",
       "      <td>0.0</td>\n",
       "      <td>53</td>\n",
       "      <td>20</td>\n",
       "      <td>6</td>\n",
       "      <td>15</td>\n",
       "      <td>2</td>\n",
       "      <td>1</td>\n",
       "      <td>61</td>\n",
       "      <td>31</td>\n",
       "      <td>-2.64606</td>\n",
       "    </tr>\n",
       "  </tbody>\n",
       "</table>\n",
       "</div>"
      ],
      "text/plain": [
       "   Machine Order Number                                 Product Decription  \\\n",
       "21    MEP2    S-6322(A)      VXV D20.0XD14.0 40\"(+12\",+12\") X 29'6\"(1\",1\")   \n",
       "22    MEP2       R-0079  VX12 D20.0XD14.0 73-1/4\"(+1-3/8\",+1-3/8\") X 21...   \n",
       "23    MEP2   S-6131 (J)  VXV D31.0XD20.0 75 3/4\"(+2 7/8\",+2 7/8\")X 29'8...   \n",
       "24    MEP2       S-6346   12X6 D11.0XD18.0 228\"(+3/4\",+3/4\") X 1'8\"(1\",1\")   \n",
       "25    MEP2       S-6346   12X6 D11.0XD18.0 228\"(+3/4\",+3/4\") X 3'8\"(1\",1\")   \n",
       "\n",
       "    LW Size  CW Size  No. of CW  LW Length  CW Length  \\\n",
       "21      0.0      0.0          0          0        0.0   \n",
       "22      0.0      0.0          0          0        0.0   \n",
       "23      0.0      0.0          0          0        0.0   \n",
       "24      0.0      0.0          0          0        0.0   \n",
       "25      0.0      0.0          0          0        0.0   \n",
       "\n",
       "    Sheets per hour For A1 Report  Squeeze  UP Slope  Weld  Down Slope  Hold  \\\n",
       "21                             40       20         6    15           2     1   \n",
       "22                             58       20         6    14           2     1   \n",
       "23                             33       20         8    18           2     1   \n",
       "24                             60       20         6    15           2     1   \n",
       "25                             53       20         6    15           2     1   \n",
       "\n",
       "    Heat  Strokes/min  Unnamed: 16  \n",
       "21    64           32     -1.64606  \n",
       "22    64           32     -3.81428  \n",
       "23    75           25     -2.20716  \n",
       "24    61           31     -2.64606  \n",
       "25    61           31     -2.64606  "
      ]
     },
     "execution_count": 8,
     "metadata": {},
     "output_type": "execute_result"
    }
   ],
   "source": [
    "df.tail()"
   ]
  },
  {
   "cell_type": "markdown",
   "id": "df667e6f",
   "metadata": {},
   "source": [
    "# Squeeze"
   ]
  },
  {
   "cell_type": "code",
   "execution_count": 9,
   "id": "1a306b39",
   "metadata": {},
   "outputs": [],
   "source": [
    "results = []\n",
    "\n",
    "def squeeze_eq(LW,CW):\n",
    "    eq =19.19507 + 0.02270*LW + 0.01293*CW\n",
    "    \n",
    "    results.append(eq)"
   ]
  },
  {
   "cell_type": "code",
   "execution_count": 10,
   "id": "38289bdc",
   "metadata": {},
   "outputs": [],
   "source": [
    "for x in range(0,len(strokes)):\n",
    "    squeeze_eq(LW[x],CW[x])"
   ]
  },
  {
   "cell_type": "code",
   "execution_count": 11,
   "id": "0a6fc5e1",
   "metadata": {},
   "outputs": [
    {
     "name": "stdout",
     "output_type": "stream",
     "text": [
      "-0.15061500000000194\n",
      "-0.15737000000000378\n",
      "-0.15737000000000378\n",
      "-0.049900000000000944\n",
      "-0.049900000000000944\n",
      "-0.01663000000000281\n",
      "-0.01663000000000281\n",
      "-0.021602000000001453\n",
      "0.09232999999999691\n",
      "0.09232999999999691\n",
      "0.09232999999999691\n",
      "0.19209399999999732\n",
      "0.169909999999998\n",
      "0.3237799999999993\n",
      "-4.195070000000001\n",
      "-4.195070000000001\n",
      "0.8049299999999988\n",
      "0.8049299999999988\n",
      "0.8049299999999988\n",
      "0.8049299999999988\n",
      "0.8049299999999988\n",
      "0.8049299999999988\n",
      "0.8049299999999988\n",
      "0.8049299999999988\n",
      "0.8049299999999988\n",
      "0.8049299999999988\n"
     ]
    }
   ],
   "source": [
    "std = []\n",
    "for i in range(0,len(results)):\n",
    "    diff = squeeze[i] - results[i]\n",
    "    std.append(diff)\n",
    "    print(diff)\n",
    "    "
   ]
  },
  {
   "cell_type": "code",
   "execution_count": 12,
   "id": "7425a7af",
   "metadata": {},
   "outputs": [
    {
     "data": {
      "text/plain": [
       "1.2953878229738476"
      ]
     },
     "execution_count": 12,
     "metadata": {},
     "output_type": "execute_result"
    }
   ],
   "source": [
    "statistics.stdev(std)"
   ]
  },
  {
   "cell_type": "markdown",
   "id": "4c672ac5",
   "metadata": {},
   "source": [
    "# Up Slope"
   ]
  },
  {
   "cell_type": "code",
   "execution_count": 13,
   "id": "7106e7f2",
   "metadata": {
    "scrolled": true
   },
   "outputs": [
    {
     "name": "stdout",
     "output_type": "stream",
     "text": [
      "0.8542249999999996\n",
      "-0.070549999999999\n",
      "1.929450000000001\n",
      "-0.056250000000000355\n",
      "-0.056250000000000355\n",
      "0.13696400000000075\n",
      "0.13696400000000075\n",
      "-0.8362929999999986\n",
      "-0.7023799999999998\n",
      "0.2976200000000002\n",
      "-0.7023799999999998\n",
      "0.4814120000000006\n",
      "-1.50936\n",
      "-1.2300649999999997\n",
      "-2.3895799999999996\n",
      "-2.3895799999999996\n",
      "1.6104200000000004\n",
      "1.6104200000000004\n",
      "0.6104200000000004\n",
      "0.6104200000000004\n",
      "1.6104200000000004\n",
      "-0.3895799999999996\n",
      "-0.3895799999999996\n",
      "1.6104200000000004\n",
      "-0.3895799999999996\n",
      "-0.3895799999999996\n"
     ]
    }
   ],
   "source": [
    "results1 = []\n",
    "\n",
    "def up_eq(LW,CW):\n",
    "    eq =  6.38958 + 0.03347*LW + 0.03217*CW\n",
    "    \n",
    "    results1.append(eq)\n",
    "    \n",
    "for x in range(0,len(strokes)):\n",
    "    up_eq(LW[x],CW[x])\n",
    "\n",
    "std1 = []\n",
    "for i in range(0,len(results)):\n",
    "    diff = up[i] - results1[i]\n",
    "    std1.append(diff)\n",
    "    print(diff)"
   ]
  },
  {
   "cell_type": "code",
   "execution_count": 14,
   "id": "0022a6a3",
   "metadata": {},
   "outputs": [
    {
     "data": {
      "text/plain": [
       "1.1566371279286018"
      ]
     },
     "execution_count": 14,
     "metadata": {},
     "output_type": "execute_result"
    }
   ],
   "source": [
    "statistics.stdev(std1)"
   ]
  },
  {
   "cell_type": "markdown",
   "id": "d0c938be",
   "metadata": {},
   "source": [
    "# Weld"
   ]
  },
  {
   "cell_type": "code",
   "execution_count": 15,
   "id": "e643ddfe",
   "metadata": {},
   "outputs": [
    {
     "name": "stdout",
     "output_type": "stream",
     "text": [
      "1.0774400000000028\n",
      "0.7309300000000007\n",
      "0.7309300000000007\n",
      "0.5351200000000027\n",
      "0.5351200000000027\n",
      "0.5991800000000005\n",
      "0.5991800000000005\n",
      "-0.13729899999999873\n",
      "-1.5028199999999963\n",
      "-1.5028199999999963\n",
      "-1.5028199999999963\n",
      "-0.3174319999999966\n",
      "0.021940000000000737\n",
      "-1.7238449999999972\n",
      "-2.1786199999999987\n",
      "-2.1786199999999987\n",
      "4.821380000000001\n",
      "1.8213800000000013\n",
      "0.8213800000000013\n",
      "0.8213800000000013\n",
      "1.8213800000000013\n",
      "-1.1786199999999987\n",
      "-2.1786199999999987\n",
      "1.8213800000000013\n",
      "-1.1786199999999987\n",
      "-1.1786199999999987\n"
     ]
    }
   ],
   "source": [
    "results2 = []\n",
    "\n",
    "def weld_eq(LW,CW):\n",
    "    eq =   16.17862-0.02125 *LW +0.08746*CW\n",
    "    \n",
    "    results2.append(eq)\n",
    "    \n",
    "for x in range(0,len(strokes)):\n",
    "    weld_eq(LW[x],CW[x])\n",
    "\n",
    "std2 = []\n",
    "for i in range(0,len(results2)):\n",
    "    diff = weld[i] - results2[i]\n",
    "    std2.append(diff)\n",
    "    print(diff)"
   ]
  },
  {
   "cell_type": "code",
   "execution_count": 16,
   "id": "0a6d8344",
   "metadata": {},
   "outputs": [
    {
     "data": {
      "text/plain": [
       "1.6290018611295989"
      ]
     },
     "execution_count": 16,
     "metadata": {},
     "output_type": "execute_result"
    }
   ],
   "source": [
    "statistics.stdev(std2)"
   ]
  },
  {
   "cell_type": "markdown",
   "id": "cc8ec380",
   "metadata": {},
   "source": [
    "# Down"
   ]
  },
  {
   "cell_type": "code",
   "execution_count": 17,
   "id": "f3b9d078",
   "metadata": {},
   "outputs": [
    {
     "name": "stdout",
     "output_type": "stream",
     "text": [
      "6.425906917684188e-09\n",
      "4.847521273276811e-09\n",
      "4.847521273276811e-09\n",
      "7.519519895637927e-09\n",
      "7.519519895637927e-09\n",
      "4.848816681501944e-09\n",
      "4.848816681501944e-09\n",
      "4.217441285092605e-09\n",
      "4.849819879026995e-09\n",
      "4.849819879026995e-09\n",
      "4.849819879026995e-09\n",
      "4.170845002704482e-09\n",
      "3.3936198295947406e-09\n",
      "2.4237603035714983e-09\n",
      "0.0\n",
      "0.0\n",
      "0.0\n",
      "0.0\n",
      "0.0\n",
      "0.0\n",
      "0.0\n",
      "0.0\n",
      "0.0\n",
      "0.0\n",
      "0.0\n",
      "0.0\n"
     ]
    }
   ],
   "source": [
    "results3 = []\n",
    "\n",
    "def down_eq(LW,CW):\n",
    "    eq =   2 + .000000000000209*LW -0.0000000002427*CW\n",
    "    \n",
    "    results3.append(eq)\n",
    "    \n",
    "for x in range(0,len(strokes)):\n",
    "    down_eq(LW[x],CW[x])\n",
    "\n",
    "std3 = []\n",
    "for i in range(0,len(results3)):\n",
    "    diff = down[i] - results3[i]\n",
    "    std3.append(diff)\n",
    "    print(diff)"
   ]
  },
  {
   "cell_type": "code",
   "execution_count": 18,
   "id": "5ddcfb2c",
   "metadata": {},
   "outputs": [
    {
     "data": {
      "text/plain": [
       "2.721409857803556e-09"
      ]
     },
     "execution_count": 18,
     "metadata": {},
     "output_type": "execute_result"
    }
   ],
   "source": [
    "statistics.stdev(std3)"
   ]
  },
  {
   "cell_type": "markdown",
   "id": "cf0f2360",
   "metadata": {},
   "source": [
    "# Hold"
   ]
  },
  {
   "cell_type": "code",
   "execution_count": 19,
   "id": "8683a3f8",
   "metadata": {},
   "outputs": [
    {
     "name": "stdout",
     "output_type": "stream",
     "text": [
      "3.18888471184664e-10\n",
      "2.395605935845424e-10\n",
      "2.395605935845424e-10\n",
      "3.742498533298999e-10\n",
      "3.742498533298999e-10\n",
      "2.402082976971087e-10\n",
      "2.402082976971087e-10\n",
      "2.084666883561681e-10\n",
      "2.4070989645963436e-10\n",
      "2.4070989645963436e-10\n",
      "2.4070989645963436e-10\n",
      "2.0701051983706975e-10\n",
      "1.6786994017081724e-10\n",
      "1.1978018576996874e-10\n",
      "0.0\n",
      "0.0\n",
      "0.0\n",
      "0.0\n",
      "0.0\n",
      "0.0\n",
      "0.0\n",
      "0.0\n",
      "0.0\n",
      "0.0\n",
      "0.0\n",
      "0.0\n"
     ]
    }
   ],
   "source": [
    "results4 = []\n",
    "\n",
    "def hold_eq(LW,CW):\n",
    "    eq = 1+0.0000000000001045*LW-0.00000000001214*CW\n",
    "    \n",
    "    results4.append(eq)\n",
    "    \n",
    "for x in range(0,len(strokes)):\n",
    "    hold_eq(LW[x],CW[x])\n",
    "\n",
    "std4 = []\n",
    "for i in range(0,len(results4)):\n",
    "    diff = hold[i] - results4[i]\n",
    "    std4.append(diff)\n",
    "    print(diff)"
   ]
  },
  {
   "cell_type": "code",
   "execution_count": 20,
   "id": "3f34bf91",
   "metadata": {},
   "outputs": [
    {
     "data": {
      "text/plain": [
       "1.3509840618362913e-10"
      ]
     },
     "execution_count": 20,
     "metadata": {},
     "output_type": "execute_result"
    }
   ],
   "source": [
    "statistics.stdev(std4)"
   ]
  },
  {
   "cell_type": "markdown",
   "id": "fd77e476",
   "metadata": {},
   "source": [
    "#HEAT"
   ]
  },
  {
   "cell_type": "code",
   "execution_count": 21,
   "id": "28421daf",
   "metadata": {},
   "outputs": [
    {
     "name": "stdout",
     "output_type": "stream",
     "text": [
      "3.7191100000000006\n",
      "3.5751199999999983\n",
      "4.575119999999998\n",
      "1.377529999999993\n",
      "1.377529999999993\n",
      "2.4921019999999885\n",
      "0.4921019999999885\n",
      "0.23584499999999764\n",
      "-3.57217\n",
      "-2.57217\n",
      "-2.57217\n",
      "-4.833222000000006\n",
      "-3.908370000000005\n",
      "-9.859425000000002\n",
      "-9.293970000000002\n",
      "-9.293970000000002\n",
      "10.706029999999998\n",
      "7.706029999999998\n",
      "3.7060299999999984\n",
      "3.7060299999999984\n",
      "8.706029999999998\n",
      "-2.2939700000000016\n",
      "-2.2939700000000016\n",
      "8.706029999999998\n",
      "-5.293970000000002\n",
      "-5.293970000000002\n"
     ]
    }
   ],
   "source": [
    "results5 = []\n",
    "\n",
    "def heat_eq(LW,CW):\n",
    "    eq =  66.29397-0.01339*LW + 0.27730*CW\n",
    "    \n",
    "    results5.append(eq)\n",
    "    \n",
    "for x in range(0,len(strokes)):\n",
    "    heat_eq(LW[x],CW[x])\n",
    "\n",
    "std5 = []\n",
    "for i in range(0,len(results5)):\n",
    "    diff = heat[i] - results5[i]\n",
    "    std5.append(diff)\n",
    "    print(diff)"
   ]
  },
  {
   "cell_type": "code",
   "execution_count": 22,
   "id": "7f032b2f",
   "metadata": {},
   "outputs": [
    {
     "data": {
      "text/plain": [
       "5.699398181459381"
      ]
     },
     "execution_count": 22,
     "metadata": {},
     "output_type": "execute_result"
    }
   ],
   "source": [
    "statistics.stdev(std5)"
   ]
  },
  {
   "cell_type": "code",
   "execution_count": null,
   "id": "0765908e",
   "metadata": {},
   "outputs": [],
   "source": []
  }
 ],
 "metadata": {
  "kernelspec": {
   "display_name": "Python 3",
   "language": "python",
   "name": "python3"
  },
  "language_info": {
   "codemirror_mode": {
    "name": "ipython",
    "version": 3
   },
   "file_extension": ".py",
   "mimetype": "text/x-python",
   "name": "python",
   "nbconvert_exporter": "python",
   "pygments_lexer": "ipython3",
   "version": "3.8.8"
  }
 },
 "nbformat": 4,
 "nbformat_minor": 5
}
