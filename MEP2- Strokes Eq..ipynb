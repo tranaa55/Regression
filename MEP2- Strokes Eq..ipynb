{
 "cells": [
  {
   "cell_type": "code",
   "execution_count": 1,
   "id": "b6af786a",
   "metadata": {},
   "outputs": [],
   "source": [
    "import pandas as pd"
   ]
  },
  {
   "cell_type": "code",
   "execution_count": 2,
   "id": "9398152f",
   "metadata": {},
   "outputs": [],
   "source": [
    "df = pd.read_csv(\"MEP2_STROKES2.csv\")"
   ]
  },
  {
   "cell_type": "code",
   "execution_count": 3,
   "id": "9c709d04",
   "metadata": {},
   "outputs": [
    {
     "data": {
      "text/html": [
       "<div>\n",
       "<style scoped>\n",
       "    .dataframe tbody tr th:only-of-type {\n",
       "        vertical-align: middle;\n",
       "    }\n",
       "\n",
       "    .dataframe tbody tr th {\n",
       "        vertical-align: top;\n",
       "    }\n",
       "\n",
       "    .dataframe thead th {\n",
       "        text-align: right;\n",
       "    }\n",
       "</style>\n",
       "<table border=\"1\" class=\"dataframe\">\n",
       "  <thead>\n",
       "    <tr style=\"text-align: right;\">\n",
       "      <th></th>\n",
       "      <th>Machine</th>\n",
       "      <th>Order Number</th>\n",
       "      <th>Product Decription</th>\n",
       "      <th>LW Size</th>\n",
       "      <th>CW Size</th>\n",
       "      <th>No. of CW</th>\n",
       "      <th>LW Length</th>\n",
       "      <th>CW Length</th>\n",
       "      <th>Sheets per hour For A1 Report</th>\n",
       "      <th>Squeeze</th>\n",
       "      <th>UP Slope</th>\n",
       "      <th>Weld</th>\n",
       "      <th>Down Slope</th>\n",
       "      <th>Hold</th>\n",
       "      <th>Heat</th>\n",
       "      <th>Strokes/min</th>\n",
       "      <th>Unnamed: 16</th>\n",
       "    </tr>\n",
       "  </thead>\n",
       "  <tbody>\n",
       "    <tr>\n",
       "      <th>21</th>\n",
       "      <td>MEP2</td>\n",
       "      <td>S-6322(A)</td>\n",
       "      <td>VXV D20.0XD14.0 40\"(+12\",+12\") X 29'6\"(1\",1\")</td>\n",
       "      <td>0.0</td>\n",
       "      <td>0.0</td>\n",
       "      <td>0</td>\n",
       "      <td>0</td>\n",
       "      <td>0.0</td>\n",
       "      <td>40</td>\n",
       "      <td>20</td>\n",
       "      <td>6</td>\n",
       "      <td>15</td>\n",
       "      <td>2</td>\n",
       "      <td>1</td>\n",
       "      <td>64</td>\n",
       "      <td>32</td>\n",
       "      <td>-1.64606</td>\n",
       "    </tr>\n",
       "    <tr>\n",
       "      <th>22</th>\n",
       "      <td>MEP2</td>\n",
       "      <td>R-0079</td>\n",
       "      <td>VX12 D20.0XD14.0 73-1/4\"(+1-3/8\",+1-3/8\") X 21...</td>\n",
       "      <td>0.0</td>\n",
       "      <td>0.0</td>\n",
       "      <td>0</td>\n",
       "      <td>0</td>\n",
       "      <td>0.0</td>\n",
       "      <td>58</td>\n",
       "      <td>20</td>\n",
       "      <td>6</td>\n",
       "      <td>14</td>\n",
       "      <td>2</td>\n",
       "      <td>1</td>\n",
       "      <td>64</td>\n",
       "      <td>32</td>\n",
       "      <td>-3.81428</td>\n",
       "    </tr>\n",
       "    <tr>\n",
       "      <th>23</th>\n",
       "      <td>MEP2</td>\n",
       "      <td>S-6131 (J)</td>\n",
       "      <td>VXV D31.0XD20.0 75 3/4\"(+2 7/8\",+2 7/8\")X 29'8...</td>\n",
       "      <td>0.0</td>\n",
       "      <td>0.0</td>\n",
       "      <td>0</td>\n",
       "      <td>0</td>\n",
       "      <td>0.0</td>\n",
       "      <td>33</td>\n",
       "      <td>20</td>\n",
       "      <td>8</td>\n",
       "      <td>18</td>\n",
       "      <td>2</td>\n",
       "      <td>1</td>\n",
       "      <td>75</td>\n",
       "      <td>25</td>\n",
       "      <td>-2.20716</td>\n",
       "    </tr>\n",
       "    <tr>\n",
       "      <th>24</th>\n",
       "      <td>MEP2</td>\n",
       "      <td>S-6346</td>\n",
       "      <td>12X6 D11.0XD18.0 228\"(+3/4\",+3/4\") X 1'8\"(1\",1\")</td>\n",
       "      <td>0.0</td>\n",
       "      <td>0.0</td>\n",
       "      <td>0</td>\n",
       "      <td>0</td>\n",
       "      <td>0.0</td>\n",
       "      <td>60</td>\n",
       "      <td>20</td>\n",
       "      <td>6</td>\n",
       "      <td>15</td>\n",
       "      <td>2</td>\n",
       "      <td>1</td>\n",
       "      <td>61</td>\n",
       "      <td>31</td>\n",
       "      <td>-2.64606</td>\n",
       "    </tr>\n",
       "    <tr>\n",
       "      <th>25</th>\n",
       "      <td>MEP2</td>\n",
       "      <td>S-6346</td>\n",
       "      <td>12X6 D11.0XD18.0 228\"(+3/4\",+3/4\") X 3'8\"(1\",1\")</td>\n",
       "      <td>0.0</td>\n",
       "      <td>0.0</td>\n",
       "      <td>0</td>\n",
       "      <td>0</td>\n",
       "      <td>0.0</td>\n",
       "      <td>53</td>\n",
       "      <td>20</td>\n",
       "      <td>6</td>\n",
       "      <td>15</td>\n",
       "      <td>2</td>\n",
       "      <td>1</td>\n",
       "      <td>61</td>\n",
       "      <td>31</td>\n",
       "      <td>-2.64606</td>\n",
       "    </tr>\n",
       "  </tbody>\n",
       "</table>\n",
       "</div>"
      ],
      "text/plain": [
       "   Machine Order Number                                 Product Decription  \\\n",
       "21    MEP2    S-6322(A)      VXV D20.0XD14.0 40\"(+12\",+12\") X 29'6\"(1\",1\")   \n",
       "22    MEP2       R-0079  VX12 D20.0XD14.0 73-1/4\"(+1-3/8\",+1-3/8\") X 21...   \n",
       "23    MEP2   S-6131 (J)  VXV D31.0XD20.0 75 3/4\"(+2 7/8\",+2 7/8\")X 29'8...   \n",
       "24    MEP2       S-6346   12X6 D11.0XD18.0 228\"(+3/4\",+3/4\") X 1'8\"(1\",1\")   \n",
       "25    MEP2       S-6346   12X6 D11.0XD18.0 228\"(+3/4\",+3/4\") X 3'8\"(1\",1\")   \n",
       "\n",
       "    LW Size  CW Size  No. of CW  LW Length  CW Length  \\\n",
       "21      0.0      0.0          0          0        0.0   \n",
       "22      0.0      0.0          0          0        0.0   \n",
       "23      0.0      0.0          0          0        0.0   \n",
       "24      0.0      0.0          0          0        0.0   \n",
       "25      0.0      0.0          0          0        0.0   \n",
       "\n",
       "    Sheets per hour For A1 Report  Squeeze  UP Slope  Weld  Down Slope  Hold  \\\n",
       "21                             40       20         6    15           2     1   \n",
       "22                             58       20         6    14           2     1   \n",
       "23                             33       20         8    18           2     1   \n",
       "24                             60       20         6    15           2     1   \n",
       "25                             53       20         6    15           2     1   \n",
       "\n",
       "    Heat  Strokes/min  Unnamed: 16  \n",
       "21    64           32     -1.64606  \n",
       "22    64           32     -3.81428  \n",
       "23    75           25     -2.20716  \n",
       "24    61           31     -2.64606  \n",
       "25    61           31     -2.64606  "
      ]
     },
     "execution_count": 3,
     "metadata": {},
     "output_type": "execute_result"
    }
   ],
   "source": [
    "df.tail()"
   ]
  },
  {
   "cell_type": "code",
   "execution_count": 4,
   "id": "c21b9a48",
   "metadata": {},
   "outputs": [],
   "source": [
    "squeeze = df[\"Squeeze\"]\n",
    "up = df[\"UP Slope\"]\n",
    "weld = df[\"Weld\"]\n",
    "strokes = df[\"Strokes/min\"]"
   ]
  },
  {
   "cell_type": "code",
   "execution_count": 5,
   "id": "64cbe710",
   "metadata": {},
   "outputs": [],
   "source": [
    "results = []\n",
    "def strokes_mep2(squeeze,up,weld):\n",
    "    eq =  60.7911 -0.1166*squeeze + 0.2335 *up -1.8555*weld      \n",
    "    results.append(eq)\n",
    "    \n",
    "    print(\"______________________\")\n",
    "    print(eq)\n",
    "    \n",
    "    "
   ]
  },
  {
   "cell_type": "code",
   "execution_count": 15,
   "id": "1a60762e",
   "metadata": {},
   "outputs": [
    {
     "name": "stdout",
     "output_type": "stream",
     "text": [
      "______________________\n",
      "26.834000000000003\n"
     ]
    }
   ],
   "source": [
    "strokes_mep2(20,8,18)"
   ]
  },
  {
   "cell_type": "code",
   "execution_count": 23,
   "id": "b5ff3b58",
   "metadata": {},
   "outputs": [
    {
     "name": "stdout",
     "output_type": "stream",
     "text": [
      "______________________\n",
      "25.3061\n",
      "______________________\n",
      "26.9281\n",
      "______________________\n",
      "27.3951\n",
      "______________________\n",
      "25.0726\n",
      "______________________\n",
      "25.0726\n",
      "______________________\n",
      "26.9281\n",
      "______________________\n",
      "26.9281\n",
      "______________________\n",
      "28.550100000000004\n",
      "______________________\n",
      "30.405600000000003\n",
      "______________________\n",
      "30.639100000000003\n",
      "______________________\n",
      "30.405600000000003\n",
      "______________________\n",
      "28.783600000000003\n",
      "______________________\n",
      "28.316600000000005\n",
      "______________________\n",
      "32.02760000000001\n",
      "______________________\n",
      "33.9991\n",
      "______________________\n",
      "33.9991\n",
      "______________________\n",
      "21.361600000000003\n",
      "______________________\n",
      "26.9281\n",
      "______________________\n",
      "28.550100000000004\n",
      "______________________\n",
      "28.550100000000004\n",
      "______________________\n",
      "26.9281\n",
      "______________________\n",
      "32.02760000000001\n",
      "______________________\n",
      "33.8831\n",
      "______________________\n",
      "26.9281\n",
      "______________________\n",
      "32.02760000000001\n",
      "______________________\n",
      "32.02760000000001\n"
     ]
    }
   ],
   "source": [
    "for x in range(0,len(strokes)):\n",
    "    strokes_mep2(squeeze[x],up[x],weld[x])"
   ]
  },
  {
   "cell_type": "code",
   "execution_count": 24,
   "id": "1dffb7eb",
   "metadata": {},
   "outputs": [
    {
     "name": "stdout",
     "output_type": "stream",
     "text": [
      "-3.3061000000000007\n",
      "-0.9281000000000006\n",
      "-0.39509999999999934\n",
      "2.9273999999999987\n",
      "-3.0726000000000013\n",
      "-0.9281000000000006\n",
      "0.07189999999999941\n",
      "-0.550100000000004\n",
      "4.594399999999997\n",
      "1.3608999999999973\n",
      "3.5943999999999967\n",
      "3.2163999999999966\n",
      "1.6833999999999953\n",
      "-1.0276000000000067\n",
      "0.0009000000000014552\n",
      "0.0009000000000014552\n",
      "1.6383999999999972\n",
      "3.0718999999999994\n",
      "-1.550100000000004\n",
      "-3.550100000000004\n",
      "-0.9281000000000006\n",
      "-0.02760000000000673\n",
      "-1.8830999999999989\n",
      "-1.9281000000000006\n",
      "-1.0276000000000067\n",
      "-1.0276000000000067\n"
     ]
    }
   ],
   "source": [
    "std=[]\n",
    "for i in range(0,len(results)):\n",
    "    diff = strokes[i] - results[i]\n",
    "    std.append(diff)\n",
    "    print (diff)\n",
    "    "
   ]
  },
  {
   "cell_type": "code",
   "execution_count": null,
   "id": "e03632bf",
   "metadata": {},
   "outputs": [],
   "source": []
  },
  {
   "cell_type": "code",
   "execution_count": null,
   "id": "96050e10",
   "metadata": {},
   "outputs": [],
   "source": []
  },
  {
   "cell_type": "code",
   "execution_count": null,
   "id": "e42c0767",
   "metadata": {},
   "outputs": [],
   "source": []
  },
  {
   "cell_type": "code",
   "execution_count": 25,
   "id": "ade63520",
   "metadata": {},
   "outputs": [],
   "source": [
    "import statistics"
   ]
  },
  {
   "cell_type": "code",
   "execution_count": 26,
   "id": "5dc5b00d",
   "metadata": {},
   "outputs": [
    {
     "data": {
      "text/plain": [
       "2.178140111072182"
      ]
     },
     "execution_count": 26,
     "metadata": {},
     "output_type": "execute_result"
    }
   ],
   "source": [
    "statistics.stdev(std)"
   ]
  },
  {
   "cell_type": "code",
   "execution_count": 15,
   "id": "7f41b1fa",
   "metadata": {},
   "outputs": [
    {
     "data": {
      "text/plain": [
       "[20.476214999999996,\n",
       " 27.923765999999993,\n",
       " 27.923765999999993,\n",
       " 16.893547999999996,\n",
       " 25.991324,\n",
       " 25.991324,\n",
       " 29.856207999999995,\n",
       " 35.371317,\n",
       " 27.923765999999993,\n",
       " 27.923765999999993,\n",
       " 35.371317,\n",
       " 29.856207999999995,\n",
       " 37.303759,\n",
       " 31.788649999999997,\n",
       " 37.303759,\n",
       " 42.818867999999995,\n",
       " 29.856207999999995,\n",
       " 40.88642599999999,\n",
       " 44.75131,\n",
       " 34.000005,\n",
       " 34.000005,\n",
       " 31.788649999999997]"
      ]
     },
     "execution_count": 15,
     "metadata": {},
     "output_type": "execute_result"
    }
   ],
   "source": [
    "#strokes std. 3.4"
   ]
  },
  {
   "cell_type": "code",
   "execution_count": 15,
   "id": "8810b5f6",
   "metadata": {},
   "outputs": [
    {
     "name": "stdout",
     "output_type": "stream",
     "text": [
      "______________________\n",
      "29.34250000000001\n"
     ]
    }
   ],
   "source": [
    "strokes_mep2(20,7,17)"
   ]
  },
  {
   "cell_type": "code",
   "execution_count": null,
   "id": "baa16d74",
   "metadata": {},
   "outputs": [],
   "source": []
  }
 ],
 "metadata": {
  "kernelspec": {
   "display_name": "Python 3",
   "language": "python",
   "name": "python3"
  },
  "language_info": {
   "codemirror_mode": {
    "name": "ipython",
    "version": 3
   },
   "file_extension": ".py",
   "mimetype": "text/x-python",
   "name": "python",
   "nbconvert_exporter": "python",
   "pygments_lexer": "ipython3",
   "version": "3.8.8"
  }
 },
 "nbformat": 4,
 "nbformat_minor": 5
}
